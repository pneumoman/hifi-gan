{
 "cells": [
  {
   "cell_type": "code",
   "execution_count": 1,
   "metadata": {},
   "outputs": [],
   "source": [
    "import os"
   ]
  },
  {
   "cell_type": "code",
   "execution_count": 2,
   "metadata": {},
   "outputs": [],
   "source": [
    "ds_path=\"/data/SLR83_44k\""
   ]
  },
  {
   "cell_type": "code",
   "execution_count": 26,
   "metadata": {},
   "outputs": [],
   "source": [
    "def proc_dir(dir_path, file_list=[]):\n",
    "    print(dir_path)\n",
    "    for file in os.listdir(dir_path):\n",
    "        file_path = os.path.join(dir_path, file)\n",
    "        if os.path.isdir(file_path):\n",
    "            file_list = proc_dir(file_path, file_list)\n",
    "        elif os.path.isfile(file_path) and file.endswith(\".wav\"):\n",
    "            file_list.append(file_path[:-4])\n",
    "    return file_list"
   ]
  },
  {
   "cell_type": "code",
   "execution_count": 6,
   "metadata": {},
   "outputs": [],
   "source": [
    "def write_files(wav_files, training_file, validation_file=None, val_factor=None):\n",
    "    for i, f in enumerate(wav_files):\n",
    "        if validation_file is not None and val_factor is not None and i % val_factor == 0 :\n",
    "            validation_file.write(f + \"\\n\")\n",
    "        else:\n",
    "            training_file.write(f + \"\\n\")"
   ]
  },
  {
   "cell_type": "code",
   "execution_count": 30,
   "metadata": {},
   "outputs": [],
   "source": [
    "def make_lists(ds_path, val_size=0):\n",
    "    trn_file = os.path.join(ds_path,\"training_list.txt\")\n",
    "    val_file = None\n",
    "    files = proc_dir(ds_path)\n",
    "    print(len(files))\n",
    "    if val_size > 0:\n",
    "        val_file = os.path.join(ds_path,\"validation_list.txt\")\n",
    "        if val_size == 1:\n",
    "            val_mod_factor = (len(files) - 1)//2 + 1\n",
    "        else:\n",
    "            val_mod_factor = (len(files) - 1)//val_size\n",
    "    with open(trn_file, \"w\") as trn_out:\n",
    "        if val_file is not None:\n",
    "            with open(val_file, \"w\") as val_out:\n",
    "                print(\"got validation file {}, {}\".format(val_file, val_mod_factor))\n",
    "                write_files(files, trn_out, val_out, val_mod_factor)\n",
    "        else:\n",
    "            write_files(files, trn_out)\n",
    "            "
   ]
  },
  {
   "cell_type": "code",
   "execution_count": 31,
   "metadata": {},
   "outputs": [
    {
     "name": "stdout",
     "output_type": "stream",
     "text": [
      "/data/SLR83_44k\n",
      "/data/SLR83_44k/.ipynb_checkpoints\n",
      "/data/SLR83_44k/irm\n",
      "/data/SLR83_44k/mef\n",
      "/data/SLR83_44k/mem\n",
      "/data/SLR83_44k/nef\n",
      "/data/SLR83_44k/nem\n",
      "/data/SLR83_44k/scf\n",
      "/data/SLR83_44k/scm\n",
      "/data/SLR83_44k/sof\n",
      "/data/SLR83_44k/som\n",
      "/data/SLR83_44k/wef\n",
      "/data/SLR83_44k/wem\n",
      "53631\n",
      "got validation file /data/SLR83_44k/validation_list.txt, 2681\n"
     ]
    }
   ],
   "source": [
    "make_lists(ds_path,20)"
   ]
  },
  {
   "cell_type": "code",
   "execution_count": null,
   "metadata": {},
   "outputs": [],
   "source": []
  }
 ],
 "metadata": {
  "kernelspec": {
   "display_name": "Python 3",
   "language": "python",
   "name": "python3"
  },
  "language_info": {
   "codemirror_mode": {
    "name": "ipython",
    "version": 3
   },
   "file_extension": ".py",
   "mimetype": "text/x-python",
   "name": "python",
   "nbconvert_exporter": "python",
   "pygments_lexer": "ipython3",
   "version": "3.6.9"
  }
 },
 "nbformat": 4,
 "nbformat_minor": 4
}
